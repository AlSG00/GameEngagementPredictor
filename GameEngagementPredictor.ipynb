{
 "cells": [
  {
   "cell_type": "code",
   "execution_count": 17,
   "metadata": {},
   "outputs": [],
   "source": [
    "# Connected libraries\n",
    "import pandas as pd\n",
    "from sklearn.metrics import confusion_matrix\n",
    "from sklearn.metrics import RocCurveDisplay\n",
    "from sklearn.metrics import classification_report, accuracy_score\n",
    "import numpy as np\n",
    "import pandas as pd\n",
    "import seaborn as sns\n",
    "import sklearn\n",
    "import xgboost as xgb\n",
    "from sklearn.model_selection import train_test_split\n",
    "from xgboost import XGBClassifier\n",
    "from sklearn.feature_extraction.text import TfidfVectorizer"
   ]
  },
  {
   "cell_type": "code",
   "execution_count": 18,
   "metadata": {},
   "outputs": [
    {
     "name": "stdout",
     "output_type": "stream",
     "text": [
      "<class 'pandas.core.frame.DataFrame'>\n",
      "RangeIndex: 40034 entries, 0 to 40033\n",
      "Data columns (total 13 columns):\n",
      " #   Column                     Non-Null Count  Dtype  \n",
      "---  ------                     --------------  -----  \n",
      " 0   PlayerID                   40034 non-null  int64  \n",
      " 1   Age                        40034 non-null  int64  \n",
      " 2   Gender                     40034 non-null  object \n",
      " 3   Location                   40034 non-null  object \n",
      " 4   GameGenre                  40034 non-null  object \n",
      " 5   PlayTimeHours              40034 non-null  float64\n",
      " 6   InGamePurchases            40034 non-null  int64  \n",
      " 7   GameDifficulty             40034 non-null  object \n",
      " 8   SessionsPerWeek            40034 non-null  int64  \n",
      " 9   AvgSessionDurationMinutes  40034 non-null  int64  \n",
      " 10  PlayerLevel                40034 non-null  int64  \n",
      " 11  AchievementsUnlocked       40034 non-null  int64  \n",
      " 12  EngagementLevel            40034 non-null  object \n",
      "dtypes: float64(1), int64(7), object(5)\n",
      "memory usage: 4.0+ MB\n",
      "None\n",
      "   PlayerID  Age  Gender Location GameGenre  PlayTimeHours  InGamePurchases  \\\n",
      "0      9000   43    Male    Other  Strategy      16.271119                0   \n",
      "1      9001   29  Female      USA  Strategy       5.525961                0   \n",
      "2      9002   22  Female      USA    Sports       8.223755                0   \n",
      "3      9003   35    Male      USA    Action       5.265351                1   \n",
      "4      9004   33    Male   Europe    Action      15.531945                0   \n",
      "\n",
      "  GameDifficulty  SessionsPerWeek  AvgSessionDurationMinutes  PlayerLevel  \\\n",
      "0         Medium                6                        108           79   \n",
      "1         Medium                5                        144           11   \n",
      "2           Easy               16                        142           35   \n",
      "3           Easy                9                         85           57   \n",
      "4         Medium                2                        131           95   \n",
      "\n",
      "   AchievementsUnlocked EngagementLevel  \n",
      "0                    25          Medium  \n",
      "1                    10          Medium  \n",
      "2                    41            High  \n",
      "3                    47          Medium  \n",
      "4                    37          Medium  \n",
      "       PlayerID  Age  Gender Location   GameGenre  PlayTimeHours  \\\n",
      "40029     49029   32    Male      USA    Strategy      20.619662   \n",
      "40030     49030   44  Female    Other  Simulation      13.539280   \n",
      "40031     49031   15  Female      USA         RPG       0.240057   \n",
      "40032     49032   34    Male      USA      Sports      14.017818   \n",
      "40033     49033   19    Male      USA      Sports      10.083804   \n",
      "\n",
      "       InGamePurchases GameDifficulty  SessionsPerWeek  \\\n",
      "40029                0           Easy                4   \n",
      "40030                0           Hard               19   \n",
      "40031                1           Easy               10   \n",
      "40032                1         Medium                3   \n",
      "40033                0           Easy               13   \n",
      "\n",
      "       AvgSessionDurationMinutes  PlayerLevel  AchievementsUnlocked  \\\n",
      "40029                         75           85                    14   \n",
      "40030                        114           71                    27   \n",
      "40031                        176           29                     1   \n",
      "40032                        128           70                    10   \n",
      "40033                         84           72                    39   \n",
      "\n",
      "      EngagementLevel  \n",
      "40029          Medium  \n",
      "40030            High  \n",
      "40031            High  \n",
      "40032          Medium  \n",
      "40033          Medium  \n"
     ]
    }
   ],
   "source": [
    "df_gamers = pd.read_csv('online_gaming_behavior_dataset.csv')\n",
    "print(df_gamers.info())\n",
    "print(df_gamers.head(5))\n",
    "print(df_gamers.tail(5))"
   ]
  },
  {
   "cell_type": "code",
   "execution_count": 19,
   "metadata": {},
   "outputs": [],
   "source": [
    "# Preparing data\n",
    "data = df_gamers\n",
    "data[['Gender', 'Location', 'GameGenre', 'GameDifficulty']] = data[['Gender', 'Location', 'GameGenre', 'GameDifficulty']].apply(lambda x: pd.factorize(x)[0])\n",
    "\n",
    "labels = pd.Categorical(df_gamers['EngagementLevel'], categories=['Low', 'Medium', 'High'])\n",
    "labels = pd.factorize(labels, sort=True)[0]\n",
    "\n",
    "#labels = pd.factorize(df_gamers['EngagementLevel'], sort=True)[0]\n",
    "data = data.drop(['PlayerID', 'EngagementLevel'], axis=1)\n",
    "#print(labels)"
   ]
  },
  {
   "cell_type": "code",
   "execution_count": 13,
   "metadata": {},
   "outputs": [],
   "source": [
    "data_test = data\n",
    "#data_test['EngagementLevel'] = pd.factorize(df_gamers['EngagementLevel'])[0]\n",
    "#print(data_test.head(20))\n",
    "data_test['EngagementLevel'] = pd.Categorical(df_gamers['EngagementLevel'], categories=['Low', 'Medium', 'High'])\n",
    "data_test['EngagementLevel'] = pd.factorize(data_test['EngagementLevel'], sort=True)[0]\n",
    "#print(data_test.head(20))"
   ]
  },
  {
   "cell_type": "code",
   "execution_count": 20,
   "metadata": {},
   "outputs": [],
   "source": [
    "X_train, X_test, y_train, y_test = train_test_split(data, labels, test_size=0.2)"
   ]
  },
  {
   "cell_type": "code",
   "execution_count": 21,
   "metadata": {},
   "outputs": [
    {
     "name": "stdout",
     "output_type": "stream",
     "text": [
      "Test Set Accuracy : 90.1835893593106 %\n",
      "\n",
      "\n",
      "Classification Report : \n",
      "\n",
      "              precision    recall  f1-score   support\n",
      "\n",
      "           0       0.91      0.85      0.88      2057\n",
      "           1       0.90      0.94      0.92      3890\n",
      "           2       0.91      0.87      0.89      2060\n",
      "\n",
      "    accuracy                           0.90      8007\n",
      "   macro avg       0.90      0.89      0.90      8007\n",
      "weighted avg       0.90      0.90      0.90      8007\n",
      "\n"
     ]
    },
    {
     "data": {
      "text/plain": [
       "<Axes: >"
      ]
     },
     "execution_count": 21,
     "metadata": {},
     "output_type": "execute_result"
    },
    {
     "data": {
      "image/png": "[encoded data removed]",
      "text/plain": [
       "<Figure size 640x480 with 2 Axes>"
      ]
     },
     "metadata": {},
     "output_type": "display_data"
    }
   ],
   "source": [
    "# Training a model\n",
    "bst = XGBClassifier(n_estimators=150, max_depth=2, learning_rate=1, objective='multi:softprob')\n",
    "bst.fit(X_train._get_numeric_data(), y_train)\n",
    "\n",
    "test_pred = bst.predict(X_test)\n",
    "\n",
    "print(f\"Test Set Accuracy : {accuracy_score(y_test, test_pred) * 100} %\\n\\n\") \n",
    "print(f\"Classification Report : \\n\\n{classification_report(y_test, test_pred)}\")\n",
    "sns.heatmap(confusion_matrix(y_test, test_pred), xticklabels=['LOW', 'MEDIUM', 'HIGH'], yticklabels=['LOW', 'MEDIUM', 'HIGH'],\n",
    "      annot=True, fmt='.4f', square=True)"
   ]
  },
  {
   "cell_type": "code",
   "execution_count": 127,
   "metadata": {},
   "outputs": [
    {
     "data": {
      "text/plain": [
       "array([0, 1, 0, ..., 1, 1, 0], dtype=int64)"
      ]
     },
     "execution_count": 127,
     "metadata": {},
     "output_type": "execute_result"
    }
   ],
   "source": [
    "test_pred"
   ]
  },
  {
   "cell_type": "code",
   "execution_count": 126,
   "metadata": {},
   "outputs": [],
   "source": [
    "#data = data.drop(['Gender'], axis=1)\n",
    "data = data[:10]"
   ]
  }
 ],
 "metadata": {
  "kernelspec": {
   "display_name": "base",
   "language": "python",
   "name": "python3"
  },
  "language_info": {
   "codemirror_mode": {
    "name": "ipython",
    "version": 3
   },
   "file_extension": ".py",
   "mimetype": "text/x-python",
   "name": "python",
   "nbconvert_exporter": "python",
   "pygments_lexer": "ipython3",
   "version": "3.11.7"
  }
 },
 "nbformat": 4,
 "nbformat_minor": 2
}
